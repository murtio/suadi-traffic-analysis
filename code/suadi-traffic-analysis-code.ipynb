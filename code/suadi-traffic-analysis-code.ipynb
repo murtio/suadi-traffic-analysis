{
 "cells": [
  {
   "cell_type": "markdown",
   "metadata": {},
   "source": [
    "# Driving Licenses, Traffic Accidents and Casualties Analysis"
   ]
  },
  {
   "cell_type": "markdown",
   "metadata": {},
   "source": [
    "## Problem Statment\n",
    "\n",
    "Craft your problem statement here using the prompt from the README and other sources you find during your investigation."
   ]
  },
  {
   "cell_type": "markdown",
   "metadata": {},
   "source": [
    "New traffic rules and fines were [implemented in October 2016](http://live.saudigazette.com.sa/article/164574/New-traffic-laws-in-15-days). We are at the General Department of Traffic under the Ministry of Interior, try to track traffic accidents and give policy recommendations that are best to help reduce injuries and casualties on the road. In this project we use data provided by The General Authority for Statistics. Two datasets are in use: a) the number of driving licenses issued between 1993-2016 and b) the accidents and casualities records of the years 2016 and 2017. We try to exploit this data statisticaly to give practical insights into the subject. "
   ]
  },
  {
   "cell_type": "markdown",
   "metadata": {},
   "source": [
    "## Executive Summary\n",
    "Write an executive summary that summarizes the problem and your key findings."
   ]
  },
  {
   "cell_type": "markdown",
   "metadata": {},
   "source": [
    "We start this project by importing the data in its raw format and then do the necessary cleaning to its values and structure. We next ship these cleaned tables to a Python friendly data type. From this point we are ready to do our stats. First, we explore the data using Pandas builtin methods of central tendency   mean, median, and mode. Secondly, we investigate trends in the data using the proper plotting libraries. We identify the relationship between different variables of the data and we give the correspondent graphical representations of them. Finally we investigate the distribution of the data and we run hypothesis tests to compare variables of interest in our dataset. At the end we discuss some observations and give stats-based recommendations."
   ]
  },
  {
   "cell_type": "markdown",
   "metadata": {},
   "source": [
    "### Contents:\n",
    "- [Datasets Description](#Datasets-Description)\n",
    "- [Data Import & Cleaning](#Data-Import-and-Cleaning)\n",
    "- [Exploratory Data Analysis](#Exploratory-Data-Analysis)\n",
    "- [Data Visualization](#Visualize-the-data)\n",
    "- [Descriptive and Inferential Statistics](#Descriptive-and-Inferential-Statistics)\n",
    "- [Outside Research](#Outside-Research)\n",
    "- [Conclusions and Recommendations](#Conclusions-and-Recommendations)"
   ]
  },
  {
   "cell_type": "markdown",
   "metadata": {},
   "source": [
    "**If you combine your problem statement, executive summary, data dictionary, and conclusions/recommendations, you have an amazing README.md file that quickly aligns your audience to the contents of your project.** Don't forget to cite your data sources!"
   ]
  },
  {
   "cell_type": "markdown",
   "metadata": {},
   "source": [
    "*All libraries used should be added here, including any Jupyter magic commands*"
   ]
  },
  {
   "cell_type": "code",
   "execution_count": 8,
   "metadata": {},
   "outputs": [],
   "source": [
    "#Imports\n",
    "import pandas as pd\n",
    "import numpy as np\n",
    "import math\n",
    "import seaborn as sns\n",
    "import matplotlib.pyplot as plt\n",
    "from scipy import stats\n",
    "%matplotlib inline"
   ]
  },
  {
   "cell_type": "markdown",
   "metadata": {},
   "source": [
    "## Datasets Description\n",
    "\n",
    "[Driving Licenses](https://datasource.kapsarc.org/explore/dataset/saudi-arabia-driving-licenses-issued-in-the-kingdom-2004-2008/information/?disjunctive.administritive_area&sort=time_period&location=5,24.37495,45.08024&basemap=jawg.streets)\n",
    "This dataset contains Saudi Arabia Driving Licenses Issued By Administrative Area for 1993 - 2016. Data from General Authority for Statistics . Follow datasource.kapsarc.org for timely data to advance energy economics research.\n",
    "\n",
    "[Traffic Accidents and Casualties](https://datasource.kapsarc.org/explore/dataset/saudi-arabia-traffic-accidents-and-casualties-injured-dead-2008/export/?disjunctive.region&disjunctive.indicator&sort=time_period)\n",
    "This dataset contains Saudi Arabia Traffic Accidents and Casualties by Region for 2016. Data from General Authority for Statistics. Follow datasource.kapsarc.org for timely data to advance energy economics research.\n"
   ]
  },
  {
   "cell_type": "markdown",
   "metadata": {},
   "source": [
    "## Data Import and Cleaning"
   ]
  },
  {
   "cell_type": "markdown",
   "metadata": {},
   "source": [
    "#### 1. Read In Driving Licenses & Traffic Accidents Data\n",
    "Read in the `saudi-arabia-traffic-accidents-2008.csv` and `saudi-arabia-driving-licenses-2004-2008.csv` files and assign them to appropriately named pandas dataframes."
   ]
  },
  {
   "cell_type": "code",
   "execution_count": 9,
   "metadata": {},
   "outputs": [],
   "source": [
    "#Code\n",
    "file_ta = pd.read_csv('../data/saudi-arabia-traffic-accidents-2008.csv', index_col=False,delimiter=';', header=0)\n",
    "file_dl = pd.read_csv('../data/saudi-arabia-driving-licenses-2004-2008.csv', index_col=False,delimiter=';', header=0)\n",
    "\n",
    "ta = pd.DataFrame(file_ta)\n",
    "dl = pd.DataFrame(file_dl)\n",
    "ta = ta.loc[:, ~ta.columns.str.contains('Unnamed')]\n",
    "dl = dl.loc[:, ~dl.columns.str.contains('Unnamed')]\n"
   ]
  },
  {
   "cell_type": "markdown",
   "metadata": {},
   "source": [
    "#### 2. Display data\n",
    "\n",
    "Print the first 10 rows of each dataframe to your jupyter notebook"
   ]
  },
  {
   "cell_type": "code",
   "execution_count": 10,
   "metadata": {
    "scrolled": true
   },
   "outputs": [
    {
     "data": {
      "text/html": [
       "<div>\n",
       "<style scoped>\n",
       "    .dataframe tbody tr th:only-of-type {\n",
       "        vertical-align: middle;\n",
       "    }\n",
       "\n",
       "    .dataframe tbody tr th {\n",
       "        vertical-align: top;\n",
       "    }\n",
       "\n",
       "    .dataframe thead th {\n",
       "        text-align: right;\n",
       "    }\n",
       "</style>\n",
       "<table border=\"1\" class=\"dataframe\">\n",
       "  <thead>\n",
       "    <tr style=\"text-align: right;\">\n",
       "      <th></th>\n",
       "      <th>Year</th>\n",
       "      <th>Region</th>\n",
       "      <th>Indicator</th>\n",
       "      <th>Value</th>\n",
       "      <th>geo_point_2d</th>\n",
       "    </tr>\n",
       "  </thead>\n",
       "  <tbody>\n",
       "    <tr>\n",
       "      <th>0</th>\n",
       "      <td>(2016)</td>\n",
       "      <td>Makkah</td>\n",
       "      <td>No. of Casualties - Injured</td>\n",
       "      <td>12383n</td>\n",
       "      <td>21.628962766, 41.2636898334</td>\n",
       "    </tr>\n",
       "    <tr>\n",
       "      <th>1</th>\n",
       "      <td>(2016)</td>\n",
       "      <td>Eastern Region</td>\n",
       "      <td>No. of Casualties - Dead</td>\n",
       "      <td>1113n</td>\n",
       "      <td>23.2883307307, 50.1478302439</td>\n",
       "    </tr>\n",
       "    <tr>\n",
       "      <th>2</th>\n",
       "      <td>(2016)</td>\n",
       "      <td>Tabouk</td>\n",
       "      <td>No. of Casualties - Dead</td>\n",
       "      <td>434n</td>\n",
       "      <td>27.90165499, 37.2598581394</td>\n",
       "    </tr>\n",
       "    <tr>\n",
       "      <th>3</th>\n",
       "      <td>(2016)</td>\n",
       "      <td>Hail</td>\n",
       "      <td>No. of Casualties - Dead</td>\n",
       "      <td>299n</td>\n",
       "      <td>27.400845724, 41.4406960508</td>\n",
       "    </tr>\n",
       "    <tr>\n",
       "      <th>4</th>\n",
       "      <td>(2016)</td>\n",
       "      <td>Hail</td>\n",
       "      <td>No. of Accidents</td>\n",
       "      <td>10199n</td>\n",
       "      <td>27.400845724, 41.4406960508</td>\n",
       "    </tr>\n",
       "    <tr>\n",
       "      <th>5</th>\n",
       "      <td>(2016)</td>\n",
       "      <td>Northern Boarder</td>\n",
       "      <td>No. of Casualties - Dead</td>\n",
       "      <td>193n</td>\n",
       "      <td>30.197074783, 41.8171186952</td>\n",
       "    </tr>\n",
       "    <tr>\n",
       "      <th>6</th>\n",
       "      <td>(2017)</td>\n",
       "      <td>Jazan</td>\n",
       "      <td>No. of Accidents</td>\n",
       "      <td>22161n</td>\n",
       "      <td>17.2072313962, 42.6525807422</td>\n",
       "    </tr>\n",
       "    <tr>\n",
       "      <th>7</th>\n",
       "      <td>(2017)</td>\n",
       "      <td>Al-Jouf</td>\n",
       "      <td>No. of Accidents</td>\n",
       "      <td>10469n</td>\n",
       "      <td>29.9677445762, 39.5570371172</td>\n",
       "    </tr>\n",
       "    <tr>\n",
       "      <th>8</th>\n",
       "      <td>(2017)</td>\n",
       "      <td>Total</td>\n",
       "      <td>No. of Casualties - Dead</td>\n",
       "      <td>7489n</td>\n",
       "      <td>NaN</td>\n",
       "    </tr>\n",
       "    <tr>\n",
       "      <th>9</th>\n",
       "      <td>(2016)</td>\n",
       "      <td>Northern Boarder</td>\n",
       "      <td>No. of Casualties - Injured</td>\n",
       "      <td>631n</td>\n",
       "      <td>30.197074783, 41.8171186952</td>\n",
       "    </tr>\n",
       "  </tbody>\n",
       "</table>\n",
       "</div>"
      ],
      "text/plain": [
       "     Year            Region                    Indicator   Value  \\\n",
       "0  (2016)            Makkah  No. of Casualties - Injured  12383n   \n",
       "1  (2016)    Eastern Region     No. of Casualties - Dead   1113n   \n",
       "2  (2016)            Tabouk     No. of Casualties - Dead    434n   \n",
       "3  (2016)              Hail     No. of Casualties - Dead    299n   \n",
       "4  (2016)              Hail             No. of Accidents  10199n   \n",
       "5  (2016)  Northern Boarder     No. of Casualties - Dead    193n   \n",
       "6  (2017)             Jazan             No. of Accidents  22161n   \n",
       "7  (2017)           Al-Jouf             No. of Accidents  10469n   \n",
       "8  (2017)             Total     No. of Casualties - Dead   7489n   \n",
       "9  (2016)  Northern Boarder  No. of Casualties - Injured    631n   \n",
       "\n",
       "                   geo_point_2d  \n",
       "0   21.628962766, 41.2636898334  \n",
       "1  23.2883307307, 50.1478302439  \n",
       "2    27.90165499, 37.2598581394  \n",
       "3   27.400845724, 41.4406960508  \n",
       "4   27.400845724, 41.4406960508  \n",
       "5   30.197074783, 41.8171186952  \n",
       "6  17.2072313962, 42.6525807422  \n",
       "7  29.9677445762, 39.5570371172  \n",
       "8                           NaN  \n",
       "9   30.197074783, 41.8171186952  "
      ]
     },
     "execution_count": 10,
     "metadata": {},
     "output_type": "execute_result"
    }
   ],
   "source": [
    "#Code\n",
    "ta.head(10)"
   ]
  },
  {
   "cell_type": "code",
   "execution_count": 11,
   "metadata": {},
   "outputs": [
    {
     "data": {
      "text/html": [
       "<div>\n",
       "<style scoped>\n",
       "    .dataframe tbody tr th:only-of-type {\n",
       "        vertical-align: middle;\n",
       "    }\n",
       "\n",
       "    .dataframe tbody tr th {\n",
       "        vertical-align: top;\n",
       "    }\n",
       "\n",
       "    .dataframe thead th {\n",
       "        text-align: right;\n",
       "    }\n",
       "</style>\n",
       "<table border=\"1\" class=\"dataframe\">\n",
       "  <thead>\n",
       "    <tr style=\"text-align: right;\">\n",
       "      <th></th>\n",
       "      <th>Year</th>\n",
       "      <th>Administritive Area</th>\n",
       "      <th>Driving Liceses</th>\n",
       "      <th>geo_point_2d</th>\n",
       "    </tr>\n",
       "  </thead>\n",
       "  <tbody>\n",
       "    <tr>\n",
       "      <th>0</th>\n",
       "      <td>(2012)</td>\n",
       "      <td>Makkah</td>\n",
       "      <td>143954n</td>\n",
       "      <td>21.628962766, 41.2636898334</td>\n",
       "    </tr>\n",
       "    <tr>\n",
       "      <th>1</th>\n",
       "      <td>(1994)</td>\n",
       "      <td>Makkah</td>\n",
       "      <td>75349n</td>\n",
       "      <td>21.628962766, 41.2636898334</td>\n",
       "    </tr>\n",
       "    <tr>\n",
       "      <th>2</th>\n",
       "      <td>(1998)</td>\n",
       "      <td>Makkah</td>\n",
       "      <td>86082n</td>\n",
       "      <td>21.628962766, 41.2636898334</td>\n",
       "    </tr>\n",
       "    <tr>\n",
       "      <th>3</th>\n",
       "      <td>(2004)</td>\n",
       "      <td>Makkah</td>\n",
       "      <td>86636n</td>\n",
       "      <td>21.628962766, 41.2636898334</td>\n",
       "    </tr>\n",
       "    <tr>\n",
       "      <th>4</th>\n",
       "      <td>(2005)</td>\n",
       "      <td>Makkah</td>\n",
       "      <td>65099n</td>\n",
       "      <td>21.628962766, 41.2636898334</td>\n",
       "    </tr>\n",
       "    <tr>\n",
       "      <th>5</th>\n",
       "      <td>(2008)</td>\n",
       "      <td>Makkah</td>\n",
       "      <td>77013n</td>\n",
       "      <td>21.628962766, 41.2636898334</td>\n",
       "    </tr>\n",
       "    <tr>\n",
       "      <th>6</th>\n",
       "      <td>(2014)</td>\n",
       "      <td>Madinah</td>\n",
       "      <td>31447n</td>\n",
       "      <td>24.927534539, 39.4918237173</td>\n",
       "    </tr>\n",
       "    <tr>\n",
       "      <th>7</th>\n",
       "      <td>(2013)</td>\n",
       "      <td>Madinah</td>\n",
       "      <td>28513n</td>\n",
       "      <td>24.927534539, 39.4918237173</td>\n",
       "    </tr>\n",
       "    <tr>\n",
       "      <th>8</th>\n",
       "      <td>(2012)</td>\n",
       "      <td>Madinah</td>\n",
       "      <td>14459n</td>\n",
       "      <td>24.927534539, 39.4918237173</td>\n",
       "    </tr>\n",
       "    <tr>\n",
       "      <th>9</th>\n",
       "      <td>(1994)</td>\n",
       "      <td>Madinah</td>\n",
       "      <td>3767n</td>\n",
       "      <td>24.927534539, 39.4918237173</td>\n",
       "    </tr>\n",
       "  </tbody>\n",
       "</table>\n",
       "</div>"
      ],
      "text/plain": [
       "     Year Administritive Area Driving Liceses                 geo_point_2d\n",
       "0  (2012)              Makkah         143954n  21.628962766, 41.2636898334\n",
       "1  (1994)              Makkah          75349n  21.628962766, 41.2636898334\n",
       "2  (1998)              Makkah          86082n  21.628962766, 41.2636898334\n",
       "3  (2004)              Makkah          86636n  21.628962766, 41.2636898334\n",
       "4  (2005)              Makkah          65099n  21.628962766, 41.2636898334\n",
       "5  (2008)              Makkah          77013n  21.628962766, 41.2636898334\n",
       "6  (2014)             Madinah          31447n  24.927534539, 39.4918237173\n",
       "7  (2013)             Madinah          28513n  24.927534539, 39.4918237173\n",
       "8  (2012)             Madinah          14459n  24.927534539, 39.4918237173\n",
       "9  (1994)             Madinah           3767n  24.927534539, 39.4918237173"
      ]
     },
     "execution_count": 11,
     "metadata": {},
     "output_type": "execute_result"
    }
   ],
   "source": [
    "dl.head(10)"
   ]
  },
  {
   "cell_type": "markdown",
   "metadata": {},
   "source": [
    "#### 3. Briefly describe the data\n",
    "\n",
    "Take your time looking through the data and briefly describe the data in the markdown cell below. Note things about what the columns might mean, and the general information that is conveyed in the dataframe."
   ]
  },
  {
   "cell_type": "markdown",
   "metadata": {},
   "source": [
    "Answer:"
   ]
  },
  {
   "cell_type": "code",
   "execution_count": 12,
   "metadata": {},
   "outputs": [],
   "source": [
    "# Traffic Accidents Data:\n",
    "#-It shows the data for traffic accidents in Saudi Arabian regions. These traffic accidents are categorized into three: accidents, injured, and dead numbers. The data is spanned over 2 years, 2016 and 2017. "
   ]
  },
  {
   "cell_type": "code",
   "execution_count": 13,
   "metadata": {},
   "outputs": [],
   "source": [
    "# Driving Licenses:\n",
    "# This table has the  number of driving licenses issued for each administrative area in Saudi Arabia. The data is spanned over 25 different year."
   ]
  },
  {
   "cell_type": "markdown",
   "metadata": {},
   "source": [
    "#### 4a. How complete is the data?\n",
    "\n",
    "Investigate missing values etc."
   ]
  },
  {
   "cell_type": "code",
   "execution_count": 14,
   "metadata": {},
   "outputs": [
    {
     "name": "stdout",
     "output_type": "stream",
     "text": [
      "<class 'pandas.core.frame.DataFrame'>\n",
      "RangeIndex: 84 entries, 0 to 83\n",
      "Data columns (total 5 columns):\n",
      "Year            84 non-null object\n",
      "Region          84 non-null object\n",
      "Indicator       84 non-null object\n",
      "Value           84 non-null object\n",
      "geo_point_2d    78 non-null object\n",
      "dtypes: object(5)\n",
      "memory usage: 3.4+ KB\n"
     ]
    }
   ],
   "source": [
    "#Code\n",
    "#Traffic Accidents has missing values in 'geo_point_2d' column.\n",
    "ta.info() "
   ]
  },
  {
   "cell_type": "code",
   "execution_count": 15,
   "metadata": {},
   "outputs": [
    {
     "name": "stdout",
     "output_type": "stream",
     "text": [
      "<class 'pandas.core.frame.DataFrame'>\n",
      "RangeIndex: 350 entries, 0 to 349\n",
      "Data columns (total 4 columns):\n",
      "Year                   350 non-null object\n",
      "Administritive Area    350 non-null object\n",
      "Driving Liceses        350 non-null object\n",
      "geo_point_2d           325 non-null object\n",
      "dtypes: object(4)\n",
      "memory usage: 11.0+ KB\n"
     ]
    }
   ],
   "source": [
    "#DrivingLicenses has missing values at 'geo_point_2d ' column\n",
    "dl.info()"
   ]
  },
  {
   "cell_type": "markdown",
   "metadata": {},
   "source": [
    "#### 4b. Are there any obvious issues with the observations?\n",
    "\n",
    "**What is the minimum *possible* value for each dataset? What is the maximum *possible* value?**"
   ]
  },
  {
   "cell_type": "markdown",
   "metadata": {},
   "source": [
    "#### 5. What are your data types? \n",
    "Display the data types of each feature. "
   ]
  },
  {
   "cell_type": "code",
   "execution_count": 16,
   "metadata": {
    "scrolled": true
   },
   "outputs": [
    {
     "data": {
      "text/plain": [
       "Year            object\n",
       "Region          object\n",
       "Indicator       object\n",
       "Value           object\n",
       "geo_point_2d    object\n",
       "dtype: object"
      ]
     },
     "execution_count": 16,
     "metadata": {},
     "output_type": "execute_result"
    }
   ],
   "source": [
    "#code\n",
    "#traffic accidents\n",
    "ta.dtypes"
   ]
  },
  {
   "cell_type": "code",
   "execution_count": 17,
   "metadata": {},
   "outputs": [
    {
     "data": {
      "text/plain": [
       "Year                   object\n",
       "Administritive Area    object\n",
       "Driving Liceses        object\n",
       "geo_point_2d           object\n",
       "dtype: object"
      ]
     },
     "execution_count": 17,
     "metadata": {},
     "output_type": "execute_result"
    }
   ],
   "source": [
    "#driving licensing\n",
    "dl.dtypes"
   ]
  },
  {
   "cell_type": "markdown",
   "metadata": {},
   "source": [
    "What did you learn?\n",
    "- Do any of them seem odd?  \n",
    "- Which ones are not as they should be?  "
   ]
  },
  {
   "cell_type": "markdown",
   "metadata": {},
   "source": [
    "Answer:"
   ]
  },
  {
   "cell_type": "code",
   "execution_count": 18,
   "metadata": {},
   "outputs": [],
   "source": [
    "# All columns are object-type, which doesn't reflect the real type of the cells. Some data casteing needed here.\n",
    "#Year\tint\n",
    "#Region \tstr\n",
    "#Indicator\tstr\n",
    "#Value\tint\n",
    "#Administritive Area\tstr\n",
    "#Driving Liceses\tint\n",
    "#geo_point_2d\tstr"
   ]
  },
  {
   "cell_type": "markdown",
   "metadata": {},
   "source": [
    "#### 6. Fix incorrect data types\n",
    "Based on what you discovered above, use appropriate methods to re-type incorrectly typed data.\n",
    "- Define a function that will allow you to convert numerical columns to an appropriate numeric type. Use `map` or `apply` to change these columns in each dataframe."
   ]
  },
  {
   "cell_type": "code",
   "execution_count": 19,
   "metadata": {},
   "outputs": [],
   "source": [
    "#code\n",
    "def convert_numric_col(df, cl):\n",
    "    df[cl] = pd.to_numeric(df[cl],  errors='ignore')"
   ]
  },
  {
   "cell_type": "markdown",
   "metadata": {},
   "source": [
    "- Make new columns `x` and `y` using `geo_point_2d`"
   ]
  },
  {
   "cell_type": "code",
   "execution_count": 20,
   "metadata": {},
   "outputs": [],
   "source": [
    "#code\n",
    "ta['x'], ta['y'] = ta['geo_point_2d'].str.split(',', 1).str\n",
    "ta = ta.drop(columns=['geo_point_2d'])\n",
    "\n",
    "dl['x'], dl['y'] = dl['geo_point_2d'].str.split(',', 1).str\n",
    "dl = dl.drop(columns=['geo_point_2d'])"
   ]
  },
  {
   "cell_type": "markdown",
   "metadata": {},
   "source": [
    "- Fix any individual values preventing other columns from being the appropriate type."
   ]
  },
  {
   "cell_type": "code",
   "execution_count": 21,
   "metadata": {},
   "outputs": [],
   "source": [
    "#code\n",
    "#Year\n",
    "ta['Year'] = ta['Year'].str.replace(\"[()]\", \"\")\n",
    "dl['Year'] = dl['Year'].str.replace(\"[()]\", \"\")\n",
    "\n",
    "convert_numric_col(ta, 'Year')\n",
    "convert_numric_col(dl, 'Year')\n",
    "\n",
    "#Value\n",
    "ta['Value'] = ta['Value'].str.rstrip('n')\n",
    "convert_numric_col(ta, 'Value')\n",
    "\n",
    "#Driving Liceses\n",
    "dl['Driving Liceses'] = dl['Driving Liceses'].str.rstrip('n')\n",
    "convert_numric_col(dl, 'Driving Liceses')"
   ]
  },
  {
   "cell_type": "markdown",
   "metadata": {},
   "source": [
    "- Finish your data modifications by making sure the columns are now typed appropriately."
   ]
  },
  {
   "cell_type": "code",
   "execution_count": 22,
   "metadata": {},
   "outputs": [
    {
     "data": {
      "text/html": [
       "<div>\n",
       "<style scoped>\n",
       "    .dataframe tbody tr th:only-of-type {\n",
       "        vertical-align: middle;\n",
       "    }\n",
       "\n",
       "    .dataframe tbody tr th {\n",
       "        vertical-align: top;\n",
       "    }\n",
       "\n",
       "    .dataframe thead th {\n",
       "        text-align: right;\n",
       "    }\n",
       "</style>\n",
       "<table border=\"1\" class=\"dataframe\">\n",
       "  <thead>\n",
       "    <tr style=\"text-align: right;\">\n",
       "      <th></th>\n",
       "      <th>Year</th>\n",
       "      <th>Region</th>\n",
       "      <th>Indicator</th>\n",
       "      <th>Value</th>\n",
       "      <th>x</th>\n",
       "      <th>y</th>\n",
       "    </tr>\n",
       "  </thead>\n",
       "  <tbody>\n",
       "    <tr>\n",
       "      <th>0</th>\n",
       "      <td>2016</td>\n",
       "      <td>Makkah</td>\n",
       "      <td>No. of Casualties - Injured</td>\n",
       "      <td>12383</td>\n",
       "      <td>21.628962766</td>\n",
       "      <td>41.2636898334</td>\n",
       "    </tr>\n",
       "    <tr>\n",
       "      <th>1</th>\n",
       "      <td>2016</td>\n",
       "      <td>Eastern Region</td>\n",
       "      <td>No. of Casualties - Dead</td>\n",
       "      <td>1113</td>\n",
       "      <td>23.2883307307</td>\n",
       "      <td>50.1478302439</td>\n",
       "    </tr>\n",
       "    <tr>\n",
       "      <th>2</th>\n",
       "      <td>2016</td>\n",
       "      <td>Tabouk</td>\n",
       "      <td>No. of Casualties - Dead</td>\n",
       "      <td>434</td>\n",
       "      <td>27.90165499</td>\n",
       "      <td>37.2598581394</td>\n",
       "    </tr>\n",
       "    <tr>\n",
       "      <th>3</th>\n",
       "      <td>2016</td>\n",
       "      <td>Hail</td>\n",
       "      <td>No. of Casualties - Dead</td>\n",
       "      <td>299</td>\n",
       "      <td>27.400845724</td>\n",
       "      <td>41.4406960508</td>\n",
       "    </tr>\n",
       "    <tr>\n",
       "      <th>4</th>\n",
       "      <td>2016</td>\n",
       "      <td>Hail</td>\n",
       "      <td>No. of Accidents</td>\n",
       "      <td>10199</td>\n",
       "      <td>27.400845724</td>\n",
       "      <td>41.4406960508</td>\n",
       "    </tr>\n",
       "  </tbody>\n",
       "</table>\n",
       "</div>"
      ],
      "text/plain": [
       "   Year          Region                    Indicator  Value              x  \\\n",
       "0  2016          Makkah  No. of Casualties - Injured  12383   21.628962766   \n",
       "1  2016  Eastern Region     No. of Casualties - Dead   1113  23.2883307307   \n",
       "2  2016          Tabouk     No. of Casualties - Dead    434    27.90165499   \n",
       "3  2016            Hail     No. of Casualties - Dead    299   27.400845724   \n",
       "4  2016            Hail             No. of Accidents  10199   27.400845724   \n",
       "\n",
       "                y  \n",
       "0   41.2636898334  \n",
       "1   50.1478302439  \n",
       "2   37.2598581394  \n",
       "3   41.4406960508  \n",
       "4   41.4406960508  "
      ]
     },
     "execution_count": 22,
     "metadata": {},
     "output_type": "execute_result"
    }
   ],
   "source": [
    "#code\n",
    "ta.head()"
   ]
  },
  {
   "cell_type": "code",
   "execution_count": 23,
   "metadata": {},
   "outputs": [
    {
     "data": {
      "text/html": [
       "<div>\n",
       "<style scoped>\n",
       "    .dataframe tbody tr th:only-of-type {\n",
       "        vertical-align: middle;\n",
       "    }\n",
       "\n",
       "    .dataframe tbody tr th {\n",
       "        vertical-align: top;\n",
       "    }\n",
       "\n",
       "    .dataframe thead th {\n",
       "        text-align: right;\n",
       "    }\n",
       "</style>\n",
       "<table border=\"1\" class=\"dataframe\">\n",
       "  <thead>\n",
       "    <tr style=\"text-align: right;\">\n",
       "      <th></th>\n",
       "      <th>Year</th>\n",
       "      <th>Administritive Area</th>\n",
       "      <th>Driving Liceses</th>\n",
       "      <th>x</th>\n",
       "      <th>y</th>\n",
       "    </tr>\n",
       "  </thead>\n",
       "  <tbody>\n",
       "    <tr>\n",
       "      <th>0</th>\n",
       "      <td>2012</td>\n",
       "      <td>Makkah</td>\n",
       "      <td>143954</td>\n",
       "      <td>21.628962766</td>\n",
       "      <td>41.2636898334</td>\n",
       "    </tr>\n",
       "    <tr>\n",
       "      <th>1</th>\n",
       "      <td>1994</td>\n",
       "      <td>Makkah</td>\n",
       "      <td>75349</td>\n",
       "      <td>21.628962766</td>\n",
       "      <td>41.2636898334</td>\n",
       "    </tr>\n",
       "    <tr>\n",
       "      <th>2</th>\n",
       "      <td>1998</td>\n",
       "      <td>Makkah</td>\n",
       "      <td>86082</td>\n",
       "      <td>21.628962766</td>\n",
       "      <td>41.2636898334</td>\n",
       "    </tr>\n",
       "    <tr>\n",
       "      <th>3</th>\n",
       "      <td>2004</td>\n",
       "      <td>Makkah</td>\n",
       "      <td>86636</td>\n",
       "      <td>21.628962766</td>\n",
       "      <td>41.2636898334</td>\n",
       "    </tr>\n",
       "    <tr>\n",
       "      <th>4</th>\n",
       "      <td>2005</td>\n",
       "      <td>Makkah</td>\n",
       "      <td>65099</td>\n",
       "      <td>21.628962766</td>\n",
       "      <td>41.2636898334</td>\n",
       "    </tr>\n",
       "  </tbody>\n",
       "</table>\n",
       "</div>"
      ],
      "text/plain": [
       "   Year Administritive Area  Driving Liceses             x               y\n",
       "0  2012              Makkah           143954  21.628962766   41.2636898334\n",
       "1  1994              Makkah            75349  21.628962766   41.2636898334\n",
       "2  1998              Makkah            86082  21.628962766   41.2636898334\n",
       "3  2004              Makkah            86636  21.628962766   41.2636898334\n",
       "4  2005              Makkah            65099  21.628962766   41.2636898334"
      ]
     },
     "execution_count": 23,
     "metadata": {},
     "output_type": "execute_result"
    }
   ],
   "source": [
    "dl.head()"
   ]
  },
  {
   "cell_type": "markdown",
   "metadata": {},
   "source": [
    "- Display the data types again to confirm they are correct."
   ]
  },
  {
   "cell_type": "code",
   "execution_count": 24,
   "metadata": {
    "scrolled": true
   },
   "outputs": [
    {
     "data": {
      "text/plain": [
       "Year          int64\n",
       "Region       object\n",
       "Indicator    object\n",
       "Value         int64\n",
       "x            object\n",
       "y            object\n",
       "dtype: object"
      ]
     },
     "execution_count": 24,
     "metadata": {},
     "output_type": "execute_result"
    }
   ],
   "source": [
    "#Code:\n",
    "ta.dtypes"
   ]
  },
  {
   "cell_type": "code",
   "execution_count": 25,
   "metadata": {},
   "outputs": [
    {
     "data": {
      "text/plain": [
       "Year                    int64\n",
       "Administritive Area    object\n",
       "Driving Liceses         int64\n",
       "x                      object\n",
       "y                      object\n",
       "dtype: object"
      ]
     },
     "execution_count": 25,
     "metadata": {},
     "output_type": "execute_result"
    }
   ],
   "source": [
    "dl.dtypes"
   ]
  },
  {
   "cell_type": "markdown",
   "metadata": {},
   "source": [
    "#### 7. Rename columns\n",
    "Change the names of the columns to more expressive names so that you can tell the difference the Driving Licenses  columns and the & Traffic Accidents columns. Your solution should map all column names being changed at once (no repeated singular name-changes). **We will be combining these two datasets, and so you should name columns in an appropriate way**.\n",
    "\n",
    "**Guidelines**:\n",
    "- Column names should be all lowercase (you will thank yourself when you start pushing data to SQL later in the course)\n",
    "- Column names should not contain spaces (underscores will suffice--this allows for using the `df.column_name` method to access columns in addition to `df['column_name']`.\n",
    "- Column names should be unique and informative (the only feature that we actually share between dataframes is the state).\n",
    "- Please also fix any typos you see in the column names."
   ]
  },
  {
   "cell_type": "code",
   "execution_count": 26,
   "metadata": {},
   "outputs": [],
   "source": [
    "dl.columns = ['year', 'region', 'licenses_count', 'x', 'y']"
   ]
  },
  {
   "cell_type": "code",
   "execution_count": 27,
   "metadata": {},
   "outputs": [],
   "source": [
    "#code\n",
    "ta.columns = ['year', 'region', 'accident_info', 'accidents_count', 'x', 'y']"
   ]
  },
  {
   "cell_type": "markdown",
   "metadata": {},
   "source": [
    "#### 8. Create a data dictionary\n",
    "\n",
    "Now that we've fixed our data, and given it appropriate names, let's create a [data dictionary](http://library.ucmerced.edu/node/10249). \n",
    "\n",
    "A data dictionary provides a quick overview of features/variables/columns, alongside data types and descriptions. The more descriptive you can be, the more useful this document is.\n",
    "\n",
    "Example of a Fictional Data Dictionary Entry: \n",
    "\n",
    "|Feature|Type|Dataset|Description|\n",
    "|---|---|---|---|\n",
    "|**county_pop**|*integer*|2010 census|The population of the county (units in thousands, where 2.5 represents 2500 people).| \n",
    "|**per_poverty**|*float*|2010 census|The percent of the county over the age of 18 living below the 200% of official US poverty rate (units percent to two decimal places 98.10 means 98.1%)|\n",
    "\n",
    "[Here's a quick link to a short guide for formatting markdown in Jupyter notebooks](https://jupyter-notebook.readthedocs.io/en/stable/examples/Notebook/Working%20With%20Markdown%20Cells.html).\n",
    "\n",
    "Provided is the skeleton for formatting a markdown table, with columns headers that will help you create a data dictionary to quickly summarize your data, as well as some examples. **This would be a great thing to copy and paste into your custom README for this project.**"
   ]
  },
  {
   "cell_type": "markdown",
   "metadata": {},
   "source": [
    "|Feature|Type|Dataset|Description|\n",
    "|---|---|---|---|\n",
    "|**ta**|DataFrame|--|The dataset for the Traffic Accidents file| \n",
    "|**dl**|DataFrame|--|The dataset for the Driving Licenses file| \n",
    "|year|int|dl/ta|The year at which that event happens| \n",
    "|region|object|dl/ta|The region in which that event takes place| \n",
    "|licenses_count|int|dl|The number of deiving licenses (event) issued in that year| \n",
    "|aciident_info|object|ta|The describtion of the event for this row| \n",
    "|accident_count|int|ta|The count for the event given in the indicator col| \n",
    "|x|object|dl/da|The x location coordinate for the region in this row| \n",
    "|y|object|dl/da|The y location coordinate for the region in this row| "
   ]
  },
  {
   "cell_type": "markdown",
   "metadata": {},
   "source": [
    "#### 9. Drop unnecessary rows\n",
    "\n",
    "This study concerns accident and license in regions/area. Please do the followings:\n",
    "0. Which rows are not associated with regions?\n",
    "1. Confirm the numbers of all regions add up to total.\n",
    "2. Remove the rows that are not associated with regions"
   ]
  },
  {
   "cell_type": "code",
   "execution_count": 28,
   "metadata": {
    "scrolled": true
   },
   "outputs": [],
   "source": [
    "#code\n",
    "#ta dataset\n",
    "#0\n",
    "ta[ta.region == 'Total']\n",
    "#1\n",
    "ta[ta.region == 'Total'].accidents_count.sum(),ta[ta.region != 'Total'].accidents_count.sum()\n",
    "#2\n",
    "ta = ta.loc[ta.region != 'Total', :]"
   ]
  },
  {
   "cell_type": "code",
   "execution_count": 29,
   "metadata": {},
   "outputs": [],
   "source": [
    "#code\n",
    "#dl dataset\n",
    "#0\n",
    "dl[dl.region == 'Total']\n",
    "# #1\n",
    "dl[dl.region == 'Total'].licenses_count.sum(),dl[dl.region != 'Total'].licenses_count.sum()\n",
    "# #2\n",
    "dl = dl.loc[dl.region != 'Total', :]"
   ]
  },
  {
   "cell_type": "markdown",
   "metadata": {},
   "source": [
    "#### 10a. Data formats\n",
    "Is the License data in long or wide format? How about the Accident data? And why?"
   ]
  },
  {
   "cell_type": "code",
   "execution_count": 30,
   "metadata": {},
   "outputs": [],
   "source": [
    "#Driving Licenses:\n",
    "#It's a long format. The columns ['year', 'region'] could be both put in wide formats, as its values are repeated for different rows. \n",
    "\n",
    "#Traffic Accidents:\n",
    "#It's a long format. The columns ['year', 'region', 'accidents_coun'] all could be put in wide formats, as its values are repeated for different rows."
   ]
  },
  {
   "cell_type": "code",
   "execution_count": 31,
   "metadata": {
    "scrolled": true
   },
   "outputs": [
    {
     "data": {
      "text/html": [
       "<div>\n",
       "<style scoped>\n",
       "    .dataframe tbody tr th:only-of-type {\n",
       "        vertical-align: middle;\n",
       "    }\n",
       "\n",
       "    .dataframe tbody tr th {\n",
       "        vertical-align: top;\n",
       "    }\n",
       "\n",
       "    .dataframe thead th {\n",
       "        text-align: right;\n",
       "    }\n",
       "</style>\n",
       "<table border=\"1\" class=\"dataframe\">\n",
       "  <thead>\n",
       "    <tr style=\"text-align: right;\">\n",
       "      <th></th>\n",
       "      <th>year</th>\n",
       "      <th>region</th>\n",
       "      <th>licenses_count</th>\n",
       "      <th>x</th>\n",
       "      <th>y</th>\n",
       "    </tr>\n",
       "  </thead>\n",
       "  <tbody>\n",
       "    <tr>\n",
       "      <th>0</th>\n",
       "      <td>2012</td>\n",
       "      <td>Makkah</td>\n",
       "      <td>143954</td>\n",
       "      <td>21.628962766</td>\n",
       "      <td>41.2636898334</td>\n",
       "    </tr>\n",
       "    <tr>\n",
       "      <th>1</th>\n",
       "      <td>1994</td>\n",
       "      <td>Makkah</td>\n",
       "      <td>75349</td>\n",
       "      <td>21.628962766</td>\n",
       "      <td>41.2636898334</td>\n",
       "    </tr>\n",
       "    <tr>\n",
       "      <th>2</th>\n",
       "      <td>1998</td>\n",
       "      <td>Makkah</td>\n",
       "      <td>86082</td>\n",
       "      <td>21.628962766</td>\n",
       "      <td>41.2636898334</td>\n",
       "    </tr>\n",
       "    <tr>\n",
       "      <th>3</th>\n",
       "      <td>2004</td>\n",
       "      <td>Makkah</td>\n",
       "      <td>86636</td>\n",
       "      <td>21.628962766</td>\n",
       "      <td>41.2636898334</td>\n",
       "    </tr>\n",
       "    <tr>\n",
       "      <th>4</th>\n",
       "      <td>2005</td>\n",
       "      <td>Makkah</td>\n",
       "      <td>65099</td>\n",
       "      <td>21.628962766</td>\n",
       "      <td>41.2636898334</td>\n",
       "    </tr>\n",
       "  </tbody>\n",
       "</table>\n",
       "</div>"
      ],
      "text/plain": [
       "   year  region  licenses_count             x               y\n",
       "0  2012  Makkah          143954  21.628962766   41.2636898334\n",
       "1  1994  Makkah           75349  21.628962766   41.2636898334\n",
       "2  1998  Makkah           86082  21.628962766   41.2636898334\n",
       "3  2004  Makkah           86636  21.628962766   41.2636898334\n",
       "4  2005  Makkah           65099  21.628962766   41.2636898334"
      ]
     },
     "execution_count": 31,
     "metadata": {},
     "output_type": "execute_result"
    }
   ],
   "source": [
    "#code\n",
    "dl.head()"
   ]
  },
  {
   "cell_type": "code",
   "execution_count": 32,
   "metadata": {},
   "outputs": [
    {
     "data": {
      "text/html": [
       "<div>\n",
       "<style scoped>\n",
       "    .dataframe tbody tr th:only-of-type {\n",
       "        vertical-align: middle;\n",
       "    }\n",
       "\n",
       "    .dataframe tbody tr th {\n",
       "        vertical-align: top;\n",
       "    }\n",
       "\n",
       "    .dataframe thead th {\n",
       "        text-align: right;\n",
       "    }\n",
       "</style>\n",
       "<table border=\"1\" class=\"dataframe\">\n",
       "  <thead>\n",
       "    <tr style=\"text-align: right;\">\n",
       "      <th></th>\n",
       "      <th>year</th>\n",
       "      <th>region</th>\n",
       "      <th>accident_info</th>\n",
       "      <th>accidents_count</th>\n",
       "      <th>x</th>\n",
       "      <th>y</th>\n",
       "    </tr>\n",
       "  </thead>\n",
       "  <tbody>\n",
       "    <tr>\n",
       "      <th>0</th>\n",
       "      <td>2016</td>\n",
       "      <td>Makkah</td>\n",
       "      <td>No. of Casualties - Injured</td>\n",
       "      <td>12383</td>\n",
       "      <td>21.628962766</td>\n",
       "      <td>41.2636898334</td>\n",
       "    </tr>\n",
       "    <tr>\n",
       "      <th>1</th>\n",
       "      <td>2016</td>\n",
       "      <td>Eastern Region</td>\n",
       "      <td>No. of Casualties - Dead</td>\n",
       "      <td>1113</td>\n",
       "      <td>23.2883307307</td>\n",
       "      <td>50.1478302439</td>\n",
       "    </tr>\n",
       "    <tr>\n",
       "      <th>2</th>\n",
       "      <td>2016</td>\n",
       "      <td>Tabouk</td>\n",
       "      <td>No. of Casualties - Dead</td>\n",
       "      <td>434</td>\n",
       "      <td>27.90165499</td>\n",
       "      <td>37.2598581394</td>\n",
       "    </tr>\n",
       "    <tr>\n",
       "      <th>3</th>\n",
       "      <td>2016</td>\n",
       "      <td>Hail</td>\n",
       "      <td>No. of Casualties - Dead</td>\n",
       "      <td>299</td>\n",
       "      <td>27.400845724</td>\n",
       "      <td>41.4406960508</td>\n",
       "    </tr>\n",
       "    <tr>\n",
       "      <th>4</th>\n",
       "      <td>2016</td>\n",
       "      <td>Hail</td>\n",
       "      <td>No. of Accidents</td>\n",
       "      <td>10199</td>\n",
       "      <td>27.400845724</td>\n",
       "      <td>41.4406960508</td>\n",
       "    </tr>\n",
       "  </tbody>\n",
       "</table>\n",
       "</div>"
      ],
      "text/plain": [
       "   year          region                accident_info  accidents_count  \\\n",
       "0  2016          Makkah  No. of Casualties - Injured            12383   \n",
       "1  2016  Eastern Region     No. of Casualties - Dead             1113   \n",
       "2  2016          Tabouk     No. of Casualties - Dead              434   \n",
       "3  2016            Hail     No. of Casualties - Dead              299   \n",
       "4  2016            Hail             No. of Accidents            10199   \n",
       "\n",
       "               x               y  \n",
       "0   21.628962766   41.2636898334  \n",
       "1  23.2883307307   50.1478302439  \n",
       "2    27.90165499   37.2598581394  \n",
       "3   27.400845724   41.4406960508  \n",
       "4   27.400845724   41.4406960508  "
      ]
     },
     "execution_count": 32,
     "metadata": {},
     "output_type": "execute_result"
    }
   ],
   "source": [
    "ta.head()"
   ]
  },
  {
   "cell_type": "markdown",
   "metadata": {},
   "source": [
    "#### 10b. Changing formats\n",
    "Which format would work best for both dataframes? Transform the datasets to the same format before merging in the next task."
   ]
  },
  {
   "cell_type": "code",
   "execution_count": 33,
   "metadata": {},
   "outputs": [],
   "source": [
    "#Long format"
   ]
  },
  {
   "cell_type": "code",
   "execution_count": 34,
   "metadata": {},
   "outputs": [],
   "source": [
    "#Cleaning the region col for the merging\n",
    "ta.region = ta.region.replace('Al-Baaha', 'Al-Baha')\n",
    "dl.region = dl.region.replace('Eastern', 'Eastern Region')\n",
    "dl.region = dl.region.replace('Al-Qaseem', 'Qassim')\n",
    "dl.region = dl.region.replace('Assir', 'Asir')\n",
    "# Eastern > Eastern Region\n",
    "# Al-Qaseem >Qassim\n",
    "# Assir > Asir"
   ]
  },
  {
   "cell_type": "code",
   "execution_count": 35,
   "metadata": {
    "scrolled": true
   },
   "outputs": [],
   "source": [
    "#code\n",
    "#Creaating pivot tables for both datasets\n",
    "ta_test = ta.pivot_table(index= ['region','year'],columns='accident_info', values='accidents_count')\n",
    "dl_test = dl.pivot_table(index=['region', 'year'])"
   ]
  },
  {
   "cell_type": "markdown",
   "metadata": {},
   "source": [
    "#### 11. Merge dataframes\n",
    "\n",
    "Join the Driving Licenses & Traffic Accidents dataframes using the **region** and **year** in each dataframe as the key. Assign this to a new variable. Which join should you use to preserve the most data?"
   ]
  },
  {
   "cell_type": "code",
   "execution_count": 36,
   "metadata": {},
   "outputs": [],
   "source": [
    "#code\n",
    "#Outer join is our target, since we need all rows and cols. By default it's set to be outer in the concat method.\n",
    "merge_ta_da = pd.concat([ta_test, dl_test], axis=1, sort=False,keys=['region', 'year'])"
   ]
  },
  {
   "cell_type": "code",
   "execution_count": 37,
   "metadata": {},
   "outputs": [
    {
     "data": {
      "text/html": [
       "<div>\n",
       "<style scoped>\n",
       "    .dataframe tbody tr th:only-of-type {\n",
       "        vertical-align: middle;\n",
       "    }\n",
       "\n",
       "    .dataframe tbody tr th {\n",
       "        vertical-align: top;\n",
       "    }\n",
       "\n",
       "    .dataframe thead th {\n",
       "        text-align: right;\n",
       "    }\n",
       "</style>\n",
       "<table border=\"1\" class=\"dataframe\">\n",
       "  <thead>\n",
       "    <tr style=\"text-align: right;\">\n",
       "      <th></th>\n",
       "      <th>region</th>\n",
       "      <th>year</th>\n",
       "      <th>no_accidents</th>\n",
       "      <th>no_casualties_dead</th>\n",
       "      <th>no_casualties_injured</th>\n",
       "      <th>licenses_count</th>\n",
       "    </tr>\n",
       "  </thead>\n",
       "  <tbody>\n",
       "    <tr>\n",
       "      <th>0</th>\n",
       "      <td>Al-Baha</td>\n",
       "      <td>1993</td>\n",
       "      <td>NaN</td>\n",
       "      <td>NaN</td>\n",
       "      <td>NaN</td>\n",
       "      <td>3270</td>\n",
       "    </tr>\n",
       "    <tr>\n",
       "      <th>1</th>\n",
       "      <td>Al-Baha</td>\n",
       "      <td>1994</td>\n",
       "      <td>NaN</td>\n",
       "      <td>NaN</td>\n",
       "      <td>NaN</td>\n",
       "      <td>2729</td>\n",
       "    </tr>\n",
       "    <tr>\n",
       "      <th>2</th>\n",
       "      <td>Al-Baha</td>\n",
       "      <td>1995</td>\n",
       "      <td>NaN</td>\n",
       "      <td>NaN</td>\n",
       "      <td>NaN</td>\n",
       "      <td>2423</td>\n",
       "    </tr>\n",
       "    <tr>\n",
       "      <th>3</th>\n",
       "      <td>Al-Baha</td>\n",
       "      <td>1996</td>\n",
       "      <td>NaN</td>\n",
       "      <td>NaN</td>\n",
       "      <td>NaN</td>\n",
       "      <td>1468</td>\n",
       "    </tr>\n",
       "    <tr>\n",
       "      <th>4</th>\n",
       "      <td>Al-Baha</td>\n",
       "      <td>1997</td>\n",
       "      <td>NaN</td>\n",
       "      <td>NaN</td>\n",
       "      <td>NaN</td>\n",
       "      <td>3027</td>\n",
       "    </tr>\n",
       "  </tbody>\n",
       "</table>\n",
       "</div>"
      ],
      "text/plain": [
       "    region  year  no_accidents  no_casualties_dead  no_casualties_injured  \\\n",
       "0  Al-Baha  1993           NaN                 NaN                    NaN   \n",
       "1  Al-Baha  1994           NaN                 NaN                    NaN   \n",
       "2  Al-Baha  1995           NaN                 NaN                    NaN   \n",
       "3  Al-Baha  1996           NaN                 NaN                    NaN   \n",
       "4  Al-Baha  1997           NaN                 NaN                    NaN   \n",
       "\n",
       "   licenses_count  \n",
       "0            3270  \n",
       "1            2729  \n",
       "2            2423  \n",
       "3            1468  \n",
       "4            3027  "
      ]
     },
     "execution_count": 37,
     "metadata": {},
     "output_type": "execute_result"
    }
   ],
   "source": [
    "mm = merge_ta_da.reset_index()\n",
    "mm.columns = ['region', 'year', 'no_accidents', 'no_casualties_dead',\n",
    "       'no_casualties_injured', 'licenses_count']\n",
    "mm.head()"
   ]
  },
  {
   "cell_type": "markdown",
   "metadata": {},
   "source": [
    "#### 12. Save your cleaned, merged dataframe\n",
    "\n",
    "Use a relative path to save out your data as `combined_datasets.csv`."
   ]
  },
  {
   "cell_type": "code",
   "execution_count": 38,
   "metadata": {},
   "outputs": [],
   "source": [
    "#code\n",
    "mm.to_csv('../data/combined_datasets.csv', sep='\\t', encoding='utf-8')"
   ]
  },
  {
   "cell_type": "markdown",
   "metadata": {},
   "source": [
    "## Exploratory Data Analysis\n",
    "\n",
    "\n",
    "### Summary Statistics\n",
    "Transpose the output of pandas `describe` method to create a quick overview of each numeric feature."
   ]
  },
  {
   "cell_type": "code",
   "execution_count": 39,
   "metadata": {},
   "outputs": [
    {
     "data": {
      "text/html": [
       "<div>\n",
       "<style scoped>\n",
       "    .dataframe tbody tr th:only-of-type {\n",
       "        vertical-align: middle;\n",
       "    }\n",
       "\n",
       "    .dataframe tbody tr th {\n",
       "        vertical-align: top;\n",
       "    }\n",
       "\n",
       "    .dataframe thead th {\n",
       "        text-align: right;\n",
       "    }\n",
       "</style>\n",
       "<table border=\"1\" class=\"dataframe\">\n",
       "  <thead>\n",
       "    <tr style=\"text-align: right;\">\n",
       "      <th></th>\n",
       "      <th>year</th>\n",
       "      <th>no_accidents</th>\n",
       "      <th>no_casualties_dead</th>\n",
       "      <th>no_casualties_injured</th>\n",
       "      <th>licenses_count</th>\n",
       "    </tr>\n",
       "  </thead>\n",
       "  <tbody>\n",
       "    <tr>\n",
       "      <th>count</th>\n",
       "      <td>325.000000</td>\n",
       "      <td>26.000000</td>\n",
       "      <td>26.000000</td>\n",
       "      <td>26.000000</td>\n",
       "      <td>325.000000</td>\n",
       "    </tr>\n",
       "    <tr>\n",
       "      <th>mean</th>\n",
       "      <td>2005.000000</td>\n",
       "      <td>38225.692308</td>\n",
       "      <td>635.384615</td>\n",
       "      <td>2743.038462</td>\n",
       "      <td>28915.347692</td>\n",
       "    </tr>\n",
       "    <tr>\n",
       "      <th>std</th>\n",
       "      <td>7.222222</td>\n",
       "      <td>46493.705035</td>\n",
       "      <td>549.783381</td>\n",
       "      <td>2922.641127</td>\n",
       "      <td>47419.058819</td>\n",
       "    </tr>\n",
       "    <tr>\n",
       "      <th>min</th>\n",
       "      <td>1993.000000</td>\n",
       "      <td>1414.000000</td>\n",
       "      <td>112.000000</td>\n",
       "      <td>374.000000</td>\n",
       "      <td>915.000000</td>\n",
       "    </tr>\n",
       "    <tr>\n",
       "      <th>25%</th>\n",
       "      <td>1999.000000</td>\n",
       "      <td>10276.250000</td>\n",
       "      <td>241.250000</td>\n",
       "      <td>923.000000</td>\n",
       "      <td>4846.000000</td>\n",
       "    </tr>\n",
       "    <tr>\n",
       "      <th>50%</th>\n",
       "      <td>2005.000000</td>\n",
       "      <td>16050.500000</td>\n",
       "      <td>415.500000</td>\n",
       "      <td>1618.500000</td>\n",
       "      <td>10267.000000</td>\n",
       "    </tr>\n",
       "    <tr>\n",
       "      <th>75%</th>\n",
       "      <td>2011.000000</td>\n",
       "      <td>30981.250000</td>\n",
       "      <td>929.250000</td>\n",
       "      <td>3784.000000</td>\n",
       "      <td>25423.000000</td>\n",
       "    </tr>\n",
       "    <tr>\n",
       "      <th>max</th>\n",
       "      <td>2017.000000</td>\n",
       "      <td>145541.000000</td>\n",
       "      <td>2243.000000</td>\n",
       "      <td>12383.000000</td>\n",
       "      <td>495307.000000</td>\n",
       "    </tr>\n",
       "  </tbody>\n",
       "</table>\n",
       "</div>"
      ],
      "text/plain": [
       "              year   no_accidents  no_casualties_dead  no_casualties_injured  \\\n",
       "count   325.000000      26.000000           26.000000              26.000000   \n",
       "mean   2005.000000   38225.692308          635.384615            2743.038462   \n",
       "std       7.222222   46493.705035          549.783381            2922.641127   \n",
       "min    1993.000000    1414.000000          112.000000             374.000000   \n",
       "25%    1999.000000   10276.250000          241.250000             923.000000   \n",
       "50%    2005.000000   16050.500000          415.500000            1618.500000   \n",
       "75%    2011.000000   30981.250000          929.250000            3784.000000   \n",
       "max    2017.000000  145541.000000         2243.000000           12383.000000   \n",
       "\n",
       "       licenses_count  \n",
       "count      325.000000  \n",
       "mean     28915.347692  \n",
       "std      47419.058819  \n",
       "min        915.000000  \n",
       "25%       4846.000000  \n",
       "50%      10267.000000  \n",
       "75%      25423.000000  \n",
       "max     495307.000000  "
      ]
     },
     "execution_count": 39,
     "metadata": {},
     "output_type": "execute_result"
    }
   ],
   "source": [
    "#Code:\n",
    "mm.describe()"
   ]
  },
  {
   "cell_type": "markdown",
   "metadata": {},
   "source": [
    "#### Manually calculate standard deviation\n",
    "\n",
    "$$\\sigma = \\sqrt{\\frac{1}{n}\\sum_{i=1}^n(x_i - \\mu)^2}$$\n",
    "\n",
    "- Write a function to calculate standard deviation using the formula above"
   ]
  },
  {
   "cell_type": "code",
   "execution_count": 40,
   "metadata": {
    "scrolled": true
   },
   "outputs": [],
   "source": [
    "#code\n",
    "def std_manual(ds):\n",
    "    mean = ds.mean()\n",
    "    return math.sqrt(sum([(x - mean)**2 for x in ds if float(x).is_integer()])/ds.count())"
   ]
  },
  {
   "cell_type": "markdown",
   "metadata": {},
   "source": [
    "- Use a **dictionary comprehension** to apply your standard deviation function to each numeric column in the dataframe.  **No loops**  \n",
    "- Assign the output to variable `sd` as a dictionary where: \n",
    "    - Each column name is now a key \n",
    "    - That standard deviation of the column is the value \n",
    "     \n",
    "*Example Output :* `{'Driving_Licenses_x': 120, 'Traffic_Accidents_x': 120, ...}`"
   ]
  },
  {
   "cell_type": "code",
   "execution_count": 41,
   "metadata": {},
   "outputs": [
    {
     "data": {
      "text/plain": [
       "{'year': 7.211102550927978,\n",
       " 'no_accidents': 45590.82869880506,\n",
       " 'no_casualties_dead': 539.1069593406002,\n",
       " 'no_casualties_injured': 2865.8854113220236,\n",
       " 'licenses_count': 47346.050217446405}"
      ]
     },
     "execution_count": 41,
     "metadata": {},
     "output_type": "execute_result"
    }
   ],
   "source": [
    "#Code:\n",
    "{c:std_manual(mm[str(c)]) for c in mm.columns if np.issubdtype(mm[str(c)].dtype, np.number)}"
   ]
  },
  {
   "cell_type": "code",
   "execution_count": 42,
   "metadata": {},
   "outputs": [
    {
     "data": {
      "text/plain": [
       "year                         7.211103\n",
       "no_accidents             45590.828699\n",
       "no_casualties_dead         539.106959\n",
       "no_casualties_injured     2865.885411\n",
       "licenses_count           47346.050217\n",
       "dtype: float64"
      ]
     },
     "execution_count": 42,
     "metadata": {},
     "output_type": "execute_result"
    }
   ],
   "source": [
    "np.std(mm)"
   ]
  },
  {
   "cell_type": "code",
   "execution_count": 47,
   "metadata": {},
   "outputs": [
    {
     "data": {
      "text/plain": [
       "year                         7.222222\n",
       "no_accidents             46493.705035\n",
       "no_casualties_dead         549.783381\n",
       "no_casualties_injured     2922.641127\n",
       "licenses_count           47419.058819\n",
       "dtype: float64"
      ]
     },
     "execution_count": 47,
     "metadata": {},
     "output_type": "execute_result"
    }
   ],
   "source": [
    "mm.std()"
   ]
  },
  {
   "cell_type": "markdown",
   "metadata": {},
   "source": [
    "Do your manually calculated standard deviations match up with the output from pandas `describe`? What about numpy's `std` method?"
   ]
  },
  {
   "cell_type": "markdown",
   "metadata": {},
   "source": [
    "**Answer:** \n",
    "it matches with numpy.std but not Pandas.std; the built-in Pandas.std assumes degree-of-freedom=1 while std_manual() has dof=0."
   ]
  },
  {
   "cell_type": "markdown",
   "metadata": {},
   "source": [
    "#### Investigate trends in the data\n",
    "Using sorting and/or masking (along with the `.head` method to not print our entire dataframe), consider the following questions:\n",
    "\n",
    "- Which regions have the highest and lowest Driving Licenses based on years (1993 - 2017)\n",
    "- Which regions have the highest and lowest mean Traffic Accidents numbers for years (2016 - 2017)\n",
    "- What are the regions that have more Driving Licenses issued in each year than the year average?\n",
    "- What are the regions that have more Traffic Accidents happened in each year than the year average?\n",
    "\n",
    "Based on what you've just observed, have you identified any regions that you're especially interested in? **Make a note of these and state *why* you think they're interesting**.\n",
    "\n",
    "**You should comment on your findings at each step in a markdown cell below your code block**. Make sure you include at least one example of sorting your dataframe by a column, and one example of using boolean filtering (i.e., masking) to select a subset of the dataframe."
   ]
  },
  {
   "cell_type": "code",
   "execution_count": null,
   "metadata": {},
   "outputs": [],
   "source": [
    "#1# -Riyadh has the highest number of issued licenses, on 2017.\n",
    "#   -Tabouk has the lowest number of issued licenses, on 2015.\n",
    "#NOTE: since Riyadh has the highest population in SA, then it's expected to be the highest.\n",
    "#\n",
    "#2#  -Makkah has the highest mean of accidents between years [2016,2017].\n",
    "#    -Al-Baha has the lowest mean of accidents between years [2016,2017].\n",
    "#NOTE: Makkah is known to be the most touristy place in SA and the most populated after Riyadh, so it's expected to be the highest.\n",
    "#\n",
    "#3#  -The regions having more licenses issued in each year than the year average are: \n",
    "#    [Asir, Eastern Region, Hail, Makkah, Qassim, Riyadh].\n",
    "#\n",
    "#4#\n",
    "#    -The regions having  more traffic accidents happened in each year than the year average are:\n",
    "#     [Eastern Region, Makkah, Riyadh]\n",
    "#NOTE: these 3 regions are the highest populated in SA."
   ]
  },
  {
   "cell_type": "code",
   "execution_count": 816,
   "metadata": {
    "scrolled": true
   },
   "outputs": [
    {
     "data": {
      "text/html": [
       "<div>\n",
       "<style scoped>\n",
       "    .dataframe tbody tr th:only-of-type {\n",
       "        vertical-align: middle;\n",
       "    }\n",
       "\n",
       "    .dataframe tbody tr th {\n",
       "        vertical-align: top;\n",
       "    }\n",
       "\n",
       "    .dataframe thead th {\n",
       "        text-align: right;\n",
       "    }\n",
       "</style>\n",
       "<table border=\"1\" class=\"dataframe\">\n",
       "  <thead>\n",
       "    <tr style=\"text-align: right;\">\n",
       "      <th></th>\n",
       "      <th>count</th>\n",
       "      <th>unique</th>\n",
       "      <th>top</th>\n",
       "      <th>freq</th>\n",
       "    </tr>\n",
       "    <tr>\n",
       "      <th>region</th>\n",
       "      <th></th>\n",
       "      <th></th>\n",
       "      <th></th>\n",
       "      <th></th>\n",
       "    </tr>\n",
       "  </thead>\n",
       "  <tbody>\n",
       "    <tr>\n",
       "      <th>Eastern Region</th>\n",
       "      <td>2</td>\n",
       "      <td>1</td>\n",
       "      <td>Eastern Region</td>\n",
       "      <td>2</td>\n",
       "    </tr>\n",
       "    <tr>\n",
       "      <th>Makkah</th>\n",
       "      <td>2</td>\n",
       "      <td>1</td>\n",
       "      <td>Makkah</td>\n",
       "      <td>2</td>\n",
       "    </tr>\n",
       "    <tr>\n",
       "      <th>Riyadh</th>\n",
       "      <td>2</td>\n",
       "      <td>1</td>\n",
       "      <td>Riyadh</td>\n",
       "      <td>2</td>\n",
       "    </tr>\n",
       "  </tbody>\n",
       "</table>\n",
       "</div>"
      ],
      "text/plain": [
       "               count unique             top freq\n",
       "region                                          \n",
       "Eastern Region     2      1  Eastern Region    2\n",
       "Makkah             2      1          Makkah    2\n",
       "Riyadh             2      1          Riyadh    2"
      ]
     },
     "execution_count": 816,
     "metadata": {},
     "output_type": "execute_result"
    }
   ],
   "source": [
    "#code\n",
    "#1#\n",
    "#\n",
    "mm.sort_values('licenses_count').head(1)\n",
    "mm.sort_values('licenses_count').tail(1)\n",
    "#\n",
    "#2#\n",
    "#\n",
    "_ = mm[mm['year'].between(2016, 2017, inclusive=True)].groupby(['region']).mean()\n",
    "_.sort_values('no_accidents')\n",
    "#\n",
    "#3#\n",
    "#\n",
    "y_mean = mm.groupby(['year']).licenses_count.mean()\n",
    "mm[mm['licenses_count']>y_mean.loc[mm['year']].values].groupby(['region']).region.describe()\n",
    "#\n",
    "#4#\n",
    "y_mean_ta = mm.groupby(['year']).no_accidents.mean()\n",
    "mm[mm['no_accidents']>y_mean.loc[mm['year']].values].groupby(['region']).region.describe()\n"
   ]
  },
  {
   "cell_type": "markdown",
   "metadata": {},
   "source": [
    "## Visualize the data\n",
    "\n",
    "There's not a magic bullet recommendation for the right number of plots to understand a given dataset, but visualizing your data is *always* a good idea. Not only does it allow you to quickly convey your findings (even if you have a non-technical audience), it will often reveal trends in your data that escaped you when you were looking only at numbers.\n",
    "\n",
    "Some recommendations on plotting:\n",
    "- Plots have titles\n",
    "- Plots have axis labels\n",
    "- Plots have appropriate tick labels\n",
    "- All text is legible in a plot\n",
    "- Plots demonstrate meaningful and valid relationships\n",
    "- Plots are interpreted to aid understanding\n",
    "\n",
    "There is such a thing as too many plots, and there are a *lot* of bad plots. You might make some! (But hopefully not with the guided prompts below)."
   ]
  },
  {
   "cell_type": "markdown",
   "metadata": {},
   "source": [
    "#### Use Seaborn's heatmap with pandas `.corr()` to visualize correlations between all numeric features\n",
    "\n",
    "Heatmaps are generally not appropriate for presentations, and should often be excluded from reports as they can be visually overwhelming. **However**, they can be extremely useful in identify relationships of potential interest (as well as identifying potential collinearity before modeling).\n",
    "\n",
    "*example*:\n",
    "```python\n",
    "sns.heatmap(df.corr())\n",
    "```\n",
    "\n",
    "Please take time to format your output, adding a title. Look through some of the additional arguments and options. (Axis labels aren't really necessary, as long as the title is informative)."
   ]
  },
  {
   "cell_type": "code",
   "execution_count": 831,
   "metadata": {},
   "outputs": [
    {
     "data": {
      "image/png": "[encoded data removed]",
      "text/plain": [
       "<Figure size 432x288 with 2 Axes>"
      ]
     },
     "metadata": {
      "needs_background": "light"
     },
     "output_type": "display_data"
    }
   ],
   "source": [
    "sns.heatmap(mm_c.corr())\n",
    "plt.suptitle('HeatMap for the corr of traffic info in SA');"
   ]
  },
  {
   "cell_type": "markdown",
   "metadata": {},
   "source": [
    "#### Define a custom function to subplot histograms\n",
    "\n",
    "We should write a function that will take the names of 2+ columns and subplot histograms. While you can use pandas plotting or Seaborn here, matplotlib gives you greater control over all aspects of your plots.\n",
    "\n",
    "[Helpful Link for Plotting Multiple Figures](https://matplotlib.org/users/pyplot_tutorial.html#working-with-multiple-figures-and-axes)\n",
    "\n",
    "Here's some starter code:"
   ]
  },
  {
   "cell_type": "code",
   "execution_count": 4,
   "metadata": {},
   "outputs": [],
   "source": [
    "def subplot_histograms(dataframe, list_of_columns, list_of_titles, list_of_xlabels):\n",
    "    nrows = int(np.ceil(len(list_of_columns)/2)) # Makes sure you have enough rows\n",
    "    fig, ax = plt.subplots(nrows=nrows, ncols=2, figsize=(10,10)) # You'll want to specify your figsize\n",
    "    ax = ax.ravel() # Ravel turns a matrix into a vector, which is easier to iterate\n",
    "    for i, column in enumerate(list_of_columns): # Gives us an index value to get into all our lists\n",
    "        ax[i].hist(dataframe[column]) # feel free to add more settings\n",
    "        # Set titles, labels, etc here for each subplot\n",
    "        ax[i].set_title(list_of_titles[i])\n",
    "        ax[i].set_xlabel(list_of_xlabels[i])"
   ]
  },
  {
   "cell_type": "markdown",
   "metadata": {},
   "source": [
    "#### Plot and interpret histograms \n",
    "For each of the following:\n",
    "- Driving Licenses number\n",
    "- Traffic Accidents number\n",
    "\n",
    "Please plot two additional histograms that will help with your understanding of the data"
   ]
  },
  {
   "cell_type": "code",
   "execution_count": 858,
   "metadata": {},
   "outputs": [
    {
     "data": {
      "image/png": "[encoded data removed]",
      "text/plain": [
       "<Figure size 648x648 with 2 Axes>"
      ]
     },
     "metadata": {
      "needs_background": "light"
     },
     "output_type": "display_data"
    }
   ],
   "source": [
    "# Code\n",
    "subplot_histograms(mm, ['licenses_count', 'no_accidents'], ['licenses_count', 'no_accidents'],['licenses_count', 'no_accidents'])"
   ]
  },
  {
   "cell_type": "markdown",
   "metadata": {},
   "source": [
    "#### Plot and interpret scatter plots\n",
    "\n",
    "For each of the following:\n",
    "- Driving Licenses vs. Traffic Accidents for 2017\n",
    "- Driving Licenses vs. Traffic Accidents for 2016\n",
    "- Driving Licenses for 2016 vs 2017\n",
    "- Traffic Accidents for 2016 vs 2017\n",
    "\n",
    "Plot the two variables against each other using matplotlib or Seaborn\n",
    "\n",
    "Your plots should show:\n",
    "- Two clearly labeled axes\n",
    "- A proper title\n",
    "- Using colors and symbols that are clear and unmistakable\n",
    "\n",
    "**Feel free to write a custom function, and subplot if you'd like.** Functions save both time and space.\n"
   ]
  },
  {
   "cell_type": "code",
   "execution_count": 894,
   "metadata": {},
   "outputs": [
    {
     "data": {
      "text/plain": [
       "Text(0, 0.5, 'Traffic Accidents 2017')"
      ]
     },
     "execution_count": 894,
     "metadata": {},
     "output_type": "execute_result"
    },
    {
     "data": {
      "image/png": "[encoded data removed]",
      "text/plain": [
       "<Figure size 1080x1080 with 4 Axes>"
      ]
     },
     "metadata": {
      "needs_background": "light"
     },
     "output_type": "display_data"
    }
   ],
   "source": [
    "# Code\n",
    "_0 = mm[mm['year'] == 2017]\n",
    "_1 = mm[mm['year'] == 2016]\n",
    "nrows = 2 # Makes sure you have enough rows\n",
    "fig, ax = plt.subplots(nrows=nrows, ncols=2, figsize = (15,15)) # You'll want to specify your figsize\n",
    "ax = ax.ravel() # Ravel turns a matrix into a vector, which is easier to iterate\n",
    "\n",
    "ax[0].scatter(_0['licenses_count'], _0['no_accidents'])\n",
    "ax[0].set_title('Driving Licenses vs. Traffic Accidents for 2017')\n",
    "ax[0].set_xlabel('Driving Licenses')\n",
    "ax[0].set_ylabel('Traffic Accidents')\n",
    "ax[1].scatter(_1['licenses_count'], _1['no_accidents'])\n",
    "ax[1].set_title('Driving Licenses vs. Traffic Accidents for 2016')\n",
    "ax[1].set_xlabel('Driving Licenses')\n",
    "ax[1].set_ylabel('Traffic Accidents')\n",
    "ax[2].scatter(_1['licenses_count'], _0['licenses_count'])\n",
    "ax[2].set_title('Driving Licenses for 2016 vs 2017')\n",
    "ax[2].set_xlabel('Driving Licenses 2016')\n",
    "ax[2].set_ylabel('Driving Licenses 2017')\n",
    "ax[3].scatter(_1['no_accidents'], _0['no_accidents'])\n",
    "ax[3].set_title('Traffic Accidents for 2016 vs 2017')\n",
    "ax[3].set_xlabel('Traffic Accidents 2016')\n",
    "ax[3].set_ylabel('Traffic Accidents 2017')"
   ]
  },
  {
   "cell_type": "markdown",
   "metadata": {},
   "source": [
    "#### Plot and interpret boxplots\n",
    "\n",
    "For each numeric variable in the dataframe create a boxplot using Seaborn. Boxplots demonstrate central tendency and spread in variables. In a certain sense, these are somewhat redundant with histograms, but you may be better able to identify clear outliers or differences in IQR, etc.\n",
    "\n",
    "Multiple values can be plotted to a single boxplot as long as they are of the same relative scale (meaning they have similar min/max values).\n",
    "\n",
    "Each boxplot should:\n",
    "- Only include variables of a similar scale\n",
    "- Have clear labels for each variable\n",
    "- Have appropriate titles and labels"
   ]
  },
  {
   "cell_type": "code",
   "execution_count": 1029,
   "metadata": {},
   "outputs": [
    {
     "name": "stderr",
     "output_type": "stream",
     "text": [
      "/home/M/anaconda3/lib/python3.6/site-packages/sklearn/preprocessing/data.py:645: DataConversionWarning: Data with input dtype int64, float64 were all converted to float64 by StandardScaler.\n",
      "  return self.partial_fit(X, y)\n",
      "/home/M/anaconda3/lib/python3.6/site-packages/sklearn/base.py:464: DataConversionWarning: Data with input dtype int64, float64 were all converted to float64 by StandardScaler.\n",
      "  return self.fit(X, **fit_params).transform(X)\n"
     ]
    },
    {
     "data": {
      "image/png": "[encoded data removed]",
      "text/plain": [
       "<Figure size 432x288 with 1 Axes>"
      ]
     },
     "metadata": {
      "needs_background": "light"
     },
     "output_type": "display_data"
    }
   ],
   "source": [
    "# Code\n",
    "from sklearn.preprocessing import StandardScaler\n",
    "scaler = StandardScaler()\n",
    "mm_scaled = scaler.fit_transform(mm.iloc[:,2:])\n",
    "\n",
    "mm_scaled = pd.DataFrame(mm_scaled)\n",
    "mm_scaled.columns = ['number of accidents', 'number of deads',\n",
    "       'number of injured', 'driving licenses']\n",
    "\n",
    "sns.boxplot(data=mm_scaled);\n",
    "plt.xticks(rotation=45)\n",
    "plt.title('Boxploting all numrical features of Traffic Data in SA');"
   ]
  },
  {
   "cell_type": "code",
   "execution_count": null,
   "metadata": {},
   "outputs": [],
   "source": [
    "#As it's observed from the scaled numrical features boxplots, \n",
    "#  -they all have a mean in similar range.\n",
    "#  -number of licenses has outliers, while the traffic accidents, deaths, and injuries numbers are less scaterred.  \n"
   ]
  },
  {
   "cell_type": "markdown",
   "metadata": {},
   "source": [
    "#### Feel free to do additional plots below\n",
    "*(do research and choose your own chart types & variables)*\n",
    "\n",
    "Are there any additional trends or relationships you haven't explored? Was there something interesting you saw that you'd like to dive further into? It's likely that there are a few more plots you might want to generate to support your narrative and recommendations that you are building toward. **As always, make sure you're interpreting your plots as you go**."
   ]
  },
  {
   "cell_type": "code",
   "execution_count": 1052,
   "metadata": {},
   "outputs": [
    {
     "data": {
      "image/png": "[encoded data removed]",
      "text/plain": [
       "<Figure size 432x288 with 1 Axes>"
      ]
     },
     "metadata": {
      "needs_background": "light"
     },
     "output_type": "display_data"
    }
   ],
   "source": [
    "#The number of licenses issued every year  and the number of accidents at the same year, for each region.\n",
    "\n",
    "fig, ax = plt.subplots()\n",
    "ax.plot(mm[mm['year']==2016].region, mm[mm['year']==2016].licenses_count, label=\"driving licenses\")\n",
    "ax.plot(mm[mm['year']==2016].region, mm[mm['year']==2016].no_accidents, label=\"number of accidents\")\n",
    "ax.plot(mm[mm['year']==2016].region, mm[mm['year']==2016].no_casualties_dead, label=\"number of deaths\")\n",
    "ax.plot(mm[mm['year']==2016].region, mm[mm['year']==2016].no_casualties_injured, label=\"number of injuries\")\n",
    "\n",
    "plt.xticks(rotation=70);\n",
    "\n",
    "ax.legend()\n",
    "\n",
    "plt.show()"
   ]
  },
  {
   "cell_type": "code",
   "execution_count": null,
   "metadata": {},
   "outputs": [],
   "source": [
    "#We observe form the the plot that:\n",
    "#   -number of issues licenses will mostly lead other trends, that's as licenses increase the accidents and casualities increase also. Which could inferred that new drivers make more accidents.\n",
    "#   -the only exception for this tendency are Jazan and Qassim regions. They both have more accidents than issues licenses. Which means their new drivers are the worst.  \n",
    "#   -notably, Riyadh, Hail, and Eastern Region are the best in terms of keeping the accidents lower than new issues licenses. Their new drivers are the best."
   ]
  },
  {
   "cell_type": "markdown",
   "metadata": {},
   "source": [
    "## Descriptive and Inferential Statistics"
   ]
  },
  {
   "cell_type": "markdown",
   "metadata": {},
   "source": [
    "#### Summarizing Distributions\n",
    "\n",
    "Above, we used pandas `describe` to provide quick summary statistics of our numeric columns. We also demonstrated many visual relationships.\n",
    "\n",
    "As data scientists, having a complete understanding of data is imperative prior to modeling.\n",
    "\n",
    "While we will continue to build our analytic tools, we know that measures of *central tendency*, *spread*, and *shape/skewness* provide a quick summary of distributions.\n",
    "\n",
    "For each variable in your data, summarize the underlying distributions \n",
    "(in words & statistics)\n",
    " - Be thorough in your verbal description of these distributions.\n",
    " - Be sure to back up these summaries with statistics."
   ]
  },
  {
   "cell_type": "markdown",
   "metadata": {},
   "source": [
    "Answers:"
   ]
  },
  {
   "cell_type": "markdown",
   "metadata": {},
   "source": [
    "**1. no_accidents**: the distribution of this variable is spread since the high value of std. It's also positively skewed as mean>median.\n",
    "\n",
    "**2. no_casualties_dead**: same as **no_accidents**, positively skewed and spread.\n",
    "\n",
    "**3. no_casualties_injured**: same as **no_accidents**, positively skewed and spread.\n",
    "\n",
    "**4. licenses_count**: positively skwed and spread."
   ]
  },
  {
   "cell_type": "code",
   "execution_count": 1008,
   "metadata": {},
   "outputs": [
    {
     "data": {
      "text/plain": [
       "(28915.347692307692, 10267.0, 47419.05881936)"
      ]
     },
     "execution_count": 1008,
     "metadata": {},
     "output_type": "execute_result"
    }
   ],
   "source": [
    "mm['no_accidents'].mean(), mm['no_accidents'].median(), mm['no_accidents'].std()\n",
    "mm['no_casualties_dead'].mean(), mm['no_casualties_dead'].median(), mm['no_casualties_dead'].std()\n",
    "mm['no_casualties_injured'].mean(), mm['no_casualties_injured'].median(), mm['no_casualties_injured'].std()\n",
    "mm['licenses_count'].mean(), mm['licenses_count'].median(), mm['licenses_count'].std()\n"
   ]
  },
  {
   "cell_type": "markdown",
   "metadata": {},
   "source": [
    "#### We generally assuming that data we sample from a population will be normally distributed. Do we observe this trend?"
   ]
  },
  {
   "cell_type": "markdown",
   "metadata": {},
   "source": [
    "Answer:"
   ]
  },
  {
   "cell_type": "markdown",
   "metadata": {},
   "source": [
    "- All the variables are spread and skewed, thus they are not normally distributed."
   ]
  },
  {
   "cell_type": "markdown",
   "metadata": {},
   "source": [
    "Does This Assumption Hold for:\n",
    "    - Driving Licenses\n",
    "    - Traffic Accidents\n",
    "Explain your answers for each distribution and how you think this will affect estimates made from these data."
   ]
  },
  {
   "cell_type": "markdown",
   "metadata": {},
   "source": [
    "Answer:"
   ]
  },
  {
   "cell_type": "markdown",
   "metadata": {},
   "source": [
    "- No it doesn't; both these variables have skewed distributed samples. The assumption used in Linear Regression is that the sample is normally distributed, if not then the estimates made will be affected."
   ]
  },
  {
   "cell_type": "markdown",
   "metadata": {},
   "source": [
    "#### Statistical Evaluation of Distributions \n",
    "\n",
    "**If you feel it's appropriate**, using methods we discussed in class, run hypothesis tests to compare variables of interest in our dataset. "
   ]
  },
  {
   "cell_type": "code",
   "execution_count": 1028,
   "metadata": {},
   "outputs": [
    {
     "data": {
      "text/plain": [
       "(-2.375879411490468, 0.02583610867214387)"
      ]
     },
     "execution_count": 1028,
     "metadata": {},
     "output_type": "execute_result"
    }
   ],
   "source": [
    "#We want to invistigate if the casualities of a region will be likely death.\n",
    "#The sample will be for 2016 of 13 regions.\n",
    "\n",
    "#H0: the mean of death casualities of a region will be as its mean injuried casualities.\n",
    "#Ha: the mean of death catualities of a region is higher than injuries.\n",
    "\n",
    "#Concusion: if we consider the threshold of p-value 0.05, \n",
    "#            then H0 is rejected as p=0.02 < 0.05.\n",
    "# As a result, the null hypothesis doesn't hold and it's most likely to have deaths out of accidents.\n",
    "\n",
    "# Code\n",
    "# fast way with scipy.stats\n",
    "deads = mm[mm['year'] == 2016].no_casualties_dead\n",
    "injured = mm[mm['year'] == 2017].no_casualties_injured\n",
    "t_test_result = stats.ttest_ind(deads,injured)\n",
    "t_test_result.statistic, t_test_result.pvalue"
   ]
  },
  {
   "cell_type": "code",
   "execution_count": 1026,
   "metadata": {},
   "outputs": [
    {
     "data": {
      "image/png": "[encoded data removed]",
      "text/plain": [
       "<Figure size 576x360 with 1 Axes>"
      ]
     },
     "metadata": {
      "needs_background": "light"
     },
     "output_type": "display_data"
    }
   ],
   "source": [
    "# let's visualize t-stat\n",
    "xpts = np.linspace(-4, 4, 500)\n",
    "ypts = stats.t.pdf(xpts, len(deads) + len(injured) - 2, 0, 1)\n",
    "\n",
    "# plot the t-distribution\n",
    "fig = plt.figure(figsize=(8, 5)) # set figure size on fig\n",
    "ax = fig.gca() # get the current axis from the figure initiated\n",
    "ax.plot(xpts, ypts, linewidth=3, color='darkred')\n",
    "\n",
    "ax.axvline(t_test_result.statistic, color='black', lw=5, linestyle='--')\n",
    "plt.show()\n",
    "\n",
    "\n"
   ]
  },
  {
   "cell_type": "markdown",
   "metadata": {},
   "source": [
    "## Outside Research"
   ]
  },
  {
   "cell_type": "markdown",
   "metadata": {},
   "source": [
    "Based upon your observations, choose **three** regions that demonstrate interesting trends in the number of driving licenses and traffic accidents. Spend some time doing outside research on provincial and central policies that might influence these rates, and summarize your findings below. **Feel free to go back and create new plots that highlight these states of interest**. If you bring in any outside tables or charts, make sure you are explicit about having borrowed them. If you quote any text, make sure that it renders as being quoted. (Make sure that you cite your sources -- check with you local instructor for citation preferences)."
   ]
  },
  {
   "cell_type": "markdown",
   "metadata": {},
   "source": [
    "Answer:"
   ]
  },
  {
   "cell_type": "markdown",
   "metadata": {},
   "source": [
    "## Conclusions and Recommendations"
   ]
  },
  {
   "cell_type": "markdown",
   "metadata": {},
   "source": [
    "- Based on your exploration of the data, what are you key takeaways and recommendations?\n",
    "\n",
    "\n",
    "- Are there additional data you desire that would better inform your investigations?\n"
   ]
  },
  {
   "cell_type": "code",
   "execution_count": null,
   "metadata": {},
   "outputs": [],
   "source": [
    "Answer:"
   ]
  },
  {
   "cell_type": "markdown",
   "metadata": {},
   "source": [
    "**Observations:**\n",
    "\n",
    "1. Highest populated regions are the highest in the scaled number of accidents. It's expected from these regions to have more strict law enforcement and more traffic eduation, however, it seems that traffic is not effected by both.\n",
    "\n",
    "2. The incrasing tendency in the number of licenses issued starting from 2005 till 2015 is interesting to study. Further invistigation is needed to see how it's correlated to the placement of the late King Abdullah in this exact period.\n",
    "\n",
    "3. Driving in SA is very dengerous. Casualities in SA is more likely to be a death case than injury. It would be insightful to compare casualities cases in similar populated countries as SA, and see what's its tendency.\n",
    "\n",
    "\n",
    "**additional data:**\n",
    "\n",
    "1. It would be more helpful if the data of the SA population is provided, as to find correlations between population and traficc.\n",
    "\n",
    "2. Any prior data to major traficc law enforcement, like Saher, would beneficial to study its worthy.\n",
    "\n",
    "3. Data of the distrubution of youth population of SA would give us insight where to start traficc awareness capaign. Also, to correlate accidents with age distribution."
   ]
  },
  {
   "cell_type": "code",
   "execution_count": 1050,
   "metadata": {},
   "outputs": [
    {
     "data": {
      "image/png": "[encoded data removed]",
      "text/plain": [
       "<Figure size 432x288 with 1 Axes>"
      ]
     },
     "metadata": {
      "needs_background": "light"
     },
     "output_type": "display_data"
    }
   ],
   "source": [
    "ig, ax = plt.subplots()\n",
    "ax.plot(mm.year.unique(), mm.groupby('year').sum().licenses_count, label=\"driving licenses\")\n",
    "mm.no_accidents\n",
    "plt.xticks(rotation=70);\n",
    "ax.legend()\n",
    "plt.show()"
   ]
  }
 ],
 "metadata": {
  "anaconda-cloud": {},
  "kernelspec": {
   "display_name": "Python 3",
   "language": "python",
   "name": "python3"
  },
  "language_info": {
   "codemirror_mode": {
    "name": "ipython",
    "version": 3
   },
   "file_extension": ".py",
   "mimetype": "text/x-python",
   "name": "python",
   "nbconvert_exporter": "python",
   "pygments_lexer": "ipython3",
   "version": "3.6.8"
  }
 },
 "nbformat": 4,
 "nbformat_minor": 2
}
